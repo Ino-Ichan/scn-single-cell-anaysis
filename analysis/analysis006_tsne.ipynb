{
 "cells": [
  {
   "cell_type": "code",
   "execution_count": 1,
   "metadata": {},
   "outputs": [],
   "source": [
    "import numpy as np\n",
    "import pandas as pd\n",
    "import matplotlib.pyplot as plt\n",
    "import seaborn as sns"
   ]
  },
  {
   "cell_type": "code",
   "execution_count": 20,
   "metadata": {},
   "outputs": [],
   "source": [
    "from sklearn.decomposition import PCA\n",
    "from sklearn.manifold import TSNE"
   ]
  },
  {
   "cell_type": "code",
   "execution_count": 3,
   "metadata": {},
   "outputs": [],
   "source": [
    "import os, sys\n",
    "from glob import glob"
   ]
  },
  {
   "cell_type": "code",
   "execution_count": 4,
   "metadata": {},
   "outputs": [],
   "source": [
    "import psutil\n",
    "import os\n",
    "import time\n",
    "import sys\n",
    "import math\n",
    "from contextlib import contextmanager\n",
    "\n",
    "@contextmanager\n",
    "def trace(title):\n",
    "    t0 = time.time()\n",
    "    p = psutil.Process(os.getpid())\n",
    "    m0 = p.memory_info()[0] / 2. ** 30\n",
    "    yield\n",
    "    m1 = p.memory_info()[0] / 2. ** 30\n",
    "    delta = m1 - m0\n",
    "    sign = '+' if delta >= 0 else '-'\n",
    "    delta = math.fabs(delta)\n",
    "    print(f\"[{m1:.1f}GB({sign}{delta:.1f}GB):{time.time() - t0:.1f}sec] {title} \", file=sys.stderr)"
   ]
  },
  {
   "cell_type": "code",
   "execution_count": null,
   "metadata": {},
   "outputs": [],
   "source": []
  },
  {
   "cell_type": "code",
   "execution_count": 9,
   "metadata": {},
   "outputs": [
    {
     "name": "stderr",
     "output_type": "stream",
     "text": [
      "[15.6GB(+4.7GB):143.2sec] load data \n"
     ]
    }
   ],
   "source": [
    "with trace('load data'):\n",
    "    df_train = pd.read_csv('../data/train_batch1.csv', index_col=0)\n",
    "    df_test = pd.read_csv('../data/test_batch1.csv', index_col=0)"
   ]
  },
  {
   "cell_type": "code",
   "execution_count": null,
   "metadata": {},
   "outputs": [],
   "source": []
  },
  {
   "cell_type": "code",
   "execution_count": 10,
   "metadata": {},
   "outputs": [
    {
     "data": {
      "text/html": [
       "<div>\n",
       "<style scoped>\n",
       "    .dataframe tbody tr th:only-of-type {\n",
       "        vertical-align: middle;\n",
       "    }\n",
       "\n",
       "    .dataframe tbody tr th {\n",
       "        vertical-align: top;\n",
       "    }\n",
       "\n",
       "    .dataframe thead th {\n",
       "        text-align: right;\n",
       "    }\n",
       "</style>\n",
       "<table border=\"1\" class=\"dataframe\">\n",
       "  <thead>\n",
       "    <tr style=\"text-align: right;\">\n",
       "      <th></th>\n",
       "      <th>0610007P14Rik</th>\n",
       "      <th>0610009B22Rik</th>\n",
       "      <th>0610009E02Rik</th>\n",
       "      <th>0610009L18Rik</th>\n",
       "      <th>0610009O20Rik</th>\n",
       "      <th>0610010F05Rik</th>\n",
       "      <th>0610010K14Rik</th>\n",
       "      <th>0610012G03Rik</th>\n",
       "      <th>0610025J13Rik</th>\n",
       "      <th>0610030E20Rik</th>\n",
       "      <th>...</th>\n",
       "      <th>Zfy1</th>\n",
       "      <th>Znrf4</th>\n",
       "      <th>n-R5s164</th>\n",
       "      <th>n-R5s167</th>\n",
       "      <th>n-R5s197</th>\n",
       "      <th>n-R5s207</th>\n",
       "      <th>n-R5s48</th>\n",
       "      <th>n-R5s56</th>\n",
       "      <th>n-R5s86</th>\n",
       "      <th>n-R5s93</th>\n",
       "    </tr>\n",
       "  </thead>\n",
       "  <tbody>\n",
       "    <tr>\n",
       "      <th>GCCTGTCAACTA</th>\n",
       "      <td>0</td>\n",
       "      <td>0</td>\n",
       "      <td>0</td>\n",
       "      <td>0</td>\n",
       "      <td>0</td>\n",
       "      <td>0</td>\n",
       "      <td>0</td>\n",
       "      <td>0</td>\n",
       "      <td>0</td>\n",
       "      <td>0</td>\n",
       "      <td>...</td>\n",
       "      <td>0</td>\n",
       "      <td>0</td>\n",
       "      <td>0</td>\n",
       "      <td>0</td>\n",
       "      <td>0</td>\n",
       "      <td>0</td>\n",
       "      <td>0</td>\n",
       "      <td>0</td>\n",
       "      <td>0</td>\n",
       "      <td>0</td>\n",
       "    </tr>\n",
       "    <tr>\n",
       "      <th>AACGCTGTTTGT</th>\n",
       "      <td>0</td>\n",
       "      <td>0</td>\n",
       "      <td>0</td>\n",
       "      <td>0</td>\n",
       "      <td>0</td>\n",
       "      <td>0</td>\n",
       "      <td>0</td>\n",
       "      <td>0</td>\n",
       "      <td>0</td>\n",
       "      <td>0</td>\n",
       "      <td>...</td>\n",
       "      <td>0</td>\n",
       "      <td>0</td>\n",
       "      <td>0</td>\n",
       "      <td>0</td>\n",
       "      <td>0</td>\n",
       "      <td>0</td>\n",
       "      <td>0</td>\n",
       "      <td>0</td>\n",
       "      <td>0</td>\n",
       "      <td>0</td>\n",
       "    </tr>\n",
       "  </tbody>\n",
       "</table>\n",
       "<p>2 rows × 31068 columns</p>\n",
       "</div>"
      ],
      "text/plain": [
       "              0610007P14Rik  0610009B22Rik  0610009E02Rik  0610009L18Rik  \\\n",
       "GCCTGTCAACTA              0              0              0              0   \n",
       "AACGCTGTTTGT              0              0              0              0   \n",
       "\n",
       "              0610009O20Rik  0610010F05Rik  0610010K14Rik  0610012G03Rik  \\\n",
       "GCCTGTCAACTA              0              0              0              0   \n",
       "AACGCTGTTTGT              0              0              0              0   \n",
       "\n",
       "              0610025J13Rik  0610030E20Rik  ...  Zfy1  Znrf4  n-R5s164  \\\n",
       "GCCTGTCAACTA              0              0  ...     0      0         0   \n",
       "AACGCTGTTTGT              0              0  ...     0      0         0   \n",
       "\n",
       "              n-R5s167  n-R5s197  n-R5s207  n-R5s48  n-R5s56  n-R5s86  n-R5s93  \n",
       "GCCTGTCAACTA         0         0         0        0        0        0        0  \n",
       "AACGCTGTTTGT         0         0         0        0        0        0        0  \n",
       "\n",
       "[2 rows x 31068 columns]"
      ]
     },
     "execution_count": 10,
     "metadata": {},
     "output_type": "execute_result"
    }
   ],
   "source": [
    "df_train.head(2)"
   ]
  },
  {
   "cell_type": "code",
   "execution_count": 11,
   "metadata": {},
   "outputs": [
    {
     "data": {
      "text/html": [
       "<div>\n",
       "<style scoped>\n",
       "    .dataframe tbody tr th:only-of-type {\n",
       "        vertical-align: middle;\n",
       "    }\n",
       "\n",
       "    .dataframe tbody tr th {\n",
       "        vertical-align: top;\n",
       "    }\n",
       "\n",
       "    .dataframe thead th {\n",
       "        text-align: right;\n",
       "    }\n",
       "</style>\n",
       "<table border=\"1\" class=\"dataframe\">\n",
       "  <thead>\n",
       "    <tr style=\"text-align: right;\">\n",
       "      <th></th>\n",
       "      <th>0610007P14Rik</th>\n",
       "      <th>0610009B22Rik</th>\n",
       "      <th>0610009E02Rik</th>\n",
       "      <th>0610009L18Rik</th>\n",
       "      <th>0610009O20Rik</th>\n",
       "      <th>0610010F05Rik</th>\n",
       "      <th>0610010K14Rik</th>\n",
       "      <th>0610012G03Rik</th>\n",
       "      <th>0610025J13Rik</th>\n",
       "      <th>0610030E20Rik</th>\n",
       "      <th>...</th>\n",
       "      <th>Zfy1</th>\n",
       "      <th>Znrf4</th>\n",
       "      <th>n-R5s164</th>\n",
       "      <th>n-R5s167</th>\n",
       "      <th>n-R5s197</th>\n",
       "      <th>n-R5s207</th>\n",
       "      <th>n-R5s48</th>\n",
       "      <th>n-R5s56</th>\n",
       "      <th>n-R5s86</th>\n",
       "      <th>n-R5s93</th>\n",
       "    </tr>\n",
       "  </thead>\n",
       "  <tbody>\n",
       "    <tr>\n",
       "      <th>TAAAGTCGTGAT</th>\n",
       "      <td>0</td>\n",
       "      <td>0</td>\n",
       "      <td>0</td>\n",
       "      <td>0</td>\n",
       "      <td>0</td>\n",
       "      <td>0</td>\n",
       "      <td>0</td>\n",
       "      <td>0</td>\n",
       "      <td>0</td>\n",
       "      <td>0</td>\n",
       "      <td>...</td>\n",
       "      <td>0</td>\n",
       "      <td>0</td>\n",
       "      <td>0</td>\n",
       "      <td>0</td>\n",
       "      <td>0</td>\n",
       "      <td>0</td>\n",
       "      <td>0</td>\n",
       "      <td>0</td>\n",
       "      <td>0</td>\n",
       "      <td>0</td>\n",
       "    </tr>\n",
       "    <tr>\n",
       "      <th>CATAACTGATGT</th>\n",
       "      <td>0</td>\n",
       "      <td>0</td>\n",
       "      <td>0</td>\n",
       "      <td>0</td>\n",
       "      <td>0</td>\n",
       "      <td>0</td>\n",
       "      <td>0</td>\n",
       "      <td>0</td>\n",
       "      <td>0</td>\n",
       "      <td>0</td>\n",
       "      <td>...</td>\n",
       "      <td>0</td>\n",
       "      <td>0</td>\n",
       "      <td>0</td>\n",
       "      <td>0</td>\n",
       "      <td>0</td>\n",
       "      <td>0</td>\n",
       "      <td>0</td>\n",
       "      <td>0</td>\n",
       "      <td>0</td>\n",
       "      <td>0</td>\n",
       "    </tr>\n",
       "  </tbody>\n",
       "</table>\n",
       "<p>2 rows × 31068 columns</p>\n",
       "</div>"
      ],
      "text/plain": [
       "              0610007P14Rik  0610009B22Rik  0610009E02Rik  0610009L18Rik  \\\n",
       "TAAAGTCGTGAT              0              0              0              0   \n",
       "CATAACTGATGT              0              0              0              0   \n",
       "\n",
       "              0610009O20Rik  0610010F05Rik  0610010K14Rik  0610012G03Rik  \\\n",
       "TAAAGTCGTGAT              0              0              0              0   \n",
       "CATAACTGATGT              0              0              0              0   \n",
       "\n",
       "              0610025J13Rik  0610030E20Rik  ...  Zfy1  Znrf4  n-R5s164  \\\n",
       "TAAAGTCGTGAT              0              0  ...     0      0         0   \n",
       "CATAACTGATGT              0              0  ...     0      0         0   \n",
       "\n",
       "              n-R5s167  n-R5s197  n-R5s207  n-R5s48  n-R5s56  n-R5s86  n-R5s93  \n",
       "TAAAGTCGTGAT         0         0         0        0        0        0        0  \n",
       "CATAACTGATGT         0         0         0        0        0        0        0  \n",
       "\n",
       "[2 rows x 31068 columns]"
      ]
     },
     "execution_count": 11,
     "metadata": {},
     "output_type": "execute_result"
    }
   ],
   "source": [
    "df_test.head(2)"
   ]
  },
  {
   "cell_type": "code",
   "execution_count": null,
   "metadata": {},
   "outputs": [],
   "source": []
  },
  {
   "cell_type": "code",
   "execution_count": 14,
   "metadata": {},
   "outputs": [],
   "source": [
    "train_data = df_train.drop('ct', axis=1)\n",
    "test_data = df_test.drop('ct', axis=1)"
   ]
  },
  {
   "cell_type": "code",
   "execution_count": null,
   "metadata": {},
   "outputs": [],
   "source": []
  },
  {
   "cell_type": "code",
   "execution_count": 16,
   "metadata": {},
   "outputs": [
    {
     "name": "stdout",
     "output_type": "stream",
     "text": [
      "<class 'pandas.core.frame.DataFrame'>\n",
      "Index: 5244 entries, GCCTGTCAACTA to GACTAAAAGTGT\n",
      "Columns: 31067 entries, 0610007P14Rik to n-R5s93\n",
      "dtypes: int64(31067)\n",
      "memory usage: 1.2+ GB\n"
     ]
    }
   ],
   "source": [
    "train_data.info()"
   ]
  },
  {
   "cell_type": "code",
   "execution_count": 17,
   "metadata": {},
   "outputs": [
    {
     "name": "stdout",
     "output_type": "stream",
     "text": [
      "<class 'pandas.core.frame.DataFrame'>\n",
      "Index: 14915 entries, TAAAGTCGTGAT to GAGATGCCCGTN\n",
      "Columns: 31067 entries, 0610007P14Rik to n-R5s93\n",
      "dtypes: int64(31067)\n",
      "memory usage: 3.5+ GB\n"
     ]
    }
   ],
   "source": [
    "test_data.info()"
   ]
  },
  {
   "cell_type": "code",
   "execution_count": null,
   "metadata": {},
   "outputs": [],
   "source": []
  },
  {
   "cell_type": "code",
   "execution_count": 22,
   "metadata": {},
   "outputs": [
    {
     "name": "stderr",
     "output_type": "stream",
     "text": [
      "[20.3GB(+0.0GB):825.1sec] umap \n"
     ]
    }
   ],
   "source": [
    "with trace('tsne'):\n",
    "    mapper = TSNE(n_components=2, random_state=42)\n",
    "    tsne_embedding = mapper.fit_transform(train_data)"
   ]
  },
  {
   "cell_type": "code",
   "execution_count": null,
   "metadata": {},
   "outputs": [],
   "source": []
  },
  {
   "cell_type": "code",
   "execution_count": 24,
   "metadata": {},
   "outputs": [
    {
     "data": {
      "text/plain": [
       "(5244, 2)"
      ]
     },
     "execution_count": 24,
     "metadata": {},
     "output_type": "execute_result"
    }
   ],
   "source": [
    "tsne_embedding.shape"
   ]
  },
  {
   "cell_type": "code",
   "execution_count": null,
   "metadata": {},
   "outputs": [],
   "source": []
  },
  {
   "cell_type": "code",
   "execution_count": 25,
   "metadata": {},
   "outputs": [
    {
     "data": {
      "text/html": [
       "<div>\n",
       "<style scoped>\n",
       "    .dataframe tbody tr th:only-of-type {\n",
       "        vertical-align: middle;\n",
       "    }\n",
       "\n",
       "    .dataframe tbody tr th {\n",
       "        vertical-align: top;\n",
       "    }\n",
       "\n",
       "    .dataframe thead th {\n",
       "        text-align: right;\n",
       "    }\n",
       "</style>\n",
       "<table border=\"1\" class=\"dataframe\">\n",
       "  <thead>\n",
       "    <tr style=\"text-align: right;\">\n",
       "      <th></th>\n",
       "      <th>gene</th>\n",
       "      <th>emb1</th>\n",
       "      <th>emb2</th>\n",
       "    </tr>\n",
       "  </thead>\n",
       "  <tbody>\n",
       "    <tr>\n",
       "      <th>0</th>\n",
       "      <td>GCCTGTCAACTA</td>\n",
       "      <td>-8.913486</td>\n",
       "      <td>-43.391090</td>\n",
       "    </tr>\n",
       "    <tr>\n",
       "      <th>1</th>\n",
       "      <td>AACGCTGTTTGT</td>\n",
       "      <td>-16.639290</td>\n",
       "      <td>-54.373058</td>\n",
       "    </tr>\n",
       "    <tr>\n",
       "      <th>2</th>\n",
       "      <td>ACTCAGGGTATT</td>\n",
       "      <td>-9.606030</td>\n",
       "      <td>35.407967</td>\n",
       "    </tr>\n",
       "    <tr>\n",
       "      <th>3</th>\n",
       "      <td>GGCAGATCGGCN</td>\n",
       "      <td>41.305473</td>\n",
       "      <td>-14.796124</td>\n",
       "    </tr>\n",
       "    <tr>\n",
       "      <th>4</th>\n",
       "      <td>TAACGTAGTTCT</td>\n",
       "      <td>-39.463863</td>\n",
       "      <td>-9.133641</td>\n",
       "    </tr>\n",
       "  </tbody>\n",
       "</table>\n",
       "</div>"
      ],
      "text/plain": [
       "           gene       emb1       emb2\n",
       "0  GCCTGTCAACTA  -8.913486 -43.391090\n",
       "1  AACGCTGTTTGT -16.639290 -54.373058\n",
       "2  ACTCAGGGTATT  -9.606030  35.407967\n",
       "3  GGCAGATCGGCN  41.305473 -14.796124\n",
       "4  TAACGTAGTTCT -39.463863  -9.133641"
      ]
     },
     "execution_count": 25,
     "metadata": {},
     "output_type": "execute_result"
    }
   ],
   "source": [
    "df_train_emb_batch1 = pd.DataFrame({\n",
    "    \"gene\": df_train.index,\n",
    "    \"emb1\": tsne_embedding[:, 0],\n",
    "    \"emb2\": tsne_embedding[:, 1]\n",
    "})\n",
    "\n",
    "df_train_emb_batch1.to_csv('../data/df_train_tsne_emb_batch1.csv', index=False)\n",
    "df_train_emb_batch1.head()"
   ]
  },
  {
   "cell_type": "code",
   "execution_count": null,
   "metadata": {},
   "outputs": [],
   "source": []
  }
 ],
 "metadata": {
  "kernelspec": {
   "display_name": "Python 3",
   "language": "python",
   "name": "python3"
  },
  "language_info": {
   "codemirror_mode": {
    "name": "ipython",
    "version": 3
   },
   "file_extension": ".py",
   "mimetype": "text/x-python",
   "name": "python",
   "nbconvert_exporter": "python",
   "pygments_lexer": "ipython3",
   "version": "3.8.3"
  }
 },
 "nbformat": 4,
 "nbformat_minor": 4
}
