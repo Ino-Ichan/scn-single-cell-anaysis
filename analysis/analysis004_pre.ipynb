{
 "cells": [
  {
   "cell_type": "code",
   "execution_count": 1,
   "metadata": {},
   "outputs": [],
   "source": [
    "import numpy as np\n",
    "import pandas as pd\n",
    "import matplotlib.pyplot as plt\n",
    "import seaborn as sns"
   ]
  },
  {
   "cell_type": "code",
   "execution_count": 2,
   "metadata": {},
   "outputs": [],
   "source": [
    "import os, sys\n",
    "from glob import glob"
   ]
  },
  {
   "cell_type": "code",
   "execution_count": 3,
   "metadata": {},
   "outputs": [],
   "source": [
    "import psutil\n",
    "import os\n",
    "import time\n",
    "import sys\n",
    "import math\n",
    "from contextlib import contextmanager\n",
    "\n",
    "@contextmanager\n",
    "def trace(title):\n",
    "    t0 = time.time()\n",
    "    p = psutil.Process(os.getpid())\n",
    "    m0 = p.memory_info()[0] / 2. ** 30\n",
    "    yield\n",
    "    m1 = p.memory_info()[0] / 2. ** 30\n",
    "    delta = m1 - m0\n",
    "    sign = '+' if delta >= 0 else '-'\n",
    "    delta = math.fabs(delta)\n",
    "    print(f\"[{m1:.1f}GB({sign}{delta:.1f}GB):{time.time() - t0:.1f}sec] {title} \", file=sys.stderr)"
   ]
  },
  {
   "cell_type": "code",
   "execution_count": 4,
   "metadata": {},
   "outputs": [],
   "source": [
    "tar_files = []\n",
    "for p in glob('../data/GSE117295_RAW/*csv'):\n",
    "    if \"CT\" in p:\n",
    "        tar_files.append(p)\n",
    "tar_files.sort()"
   ]
  },
  {
   "cell_type": "code",
   "execution_count": 5,
   "metadata": {},
   "outputs": [
    {
     "data": {
      "text/plain": [
       "['../data/GSE117295_RAW/GSM3290582_CT14.csv',\n",
       " '../data/GSE117295_RAW/GSM3290583_CT18.csv',\n",
       " '../data/GSE117295_RAW/GSM3290584_CT22.csv',\n",
       " '../data/GSE117295_RAW/GSM3290585_CT26.csv',\n",
       " '../data/GSE117295_RAW/GSM3290586_CT30.csv',\n",
       " '../data/GSE117295_RAW/GSM3290587_CT34.csv',\n",
       " '../data/GSE117295_RAW/GSM3290588_CT38.csv',\n",
       " '../data/GSE117295_RAW/GSM3290589_CT42.csv',\n",
       " '../data/GSE117295_RAW/GSM3290590_CT46.csv',\n",
       " '../data/GSE117295_RAW/GSM3290591_CT50.csv',\n",
       " '../data/GSE117295_RAW/GSM3290592_CT54.csv',\n",
       " '../data/GSE117295_RAW/GSM3290593_CT58.csv']"
      ]
     },
     "execution_count": 5,
     "metadata": {},
     "output_type": "execute_result"
    }
   ],
   "source": [
    "tar_files"
   ]
  },
  {
   "cell_type": "code",
   "execution_count": 6,
   "metadata": {},
   "outputs": [
    {
     "data": {
      "text/plain": [
       "['../data/GSE117295_RAW/GSM3290582_CT14.csv',\n",
       " '../data/GSE117295_RAW/GSM3290585_CT26.csv',\n",
       " '../data/GSE117295_RAW/GSM3290588_CT38.csv',\n",
       " '../data/GSE117295_RAW/GSM3290591_CT50.csv']"
      ]
     },
     "execution_count": 6,
     "metadata": {},
     "output_type": "execute_result"
    }
   ],
   "source": [
    "tar_files[0::3]"
   ]
  },
  {
   "cell_type": "code",
   "execution_count": null,
   "metadata": {},
   "outputs": [],
   "source": []
  },
  {
   "cell_type": "code",
   "execution_count": 7,
   "metadata": {},
   "outputs": [],
   "source": [
    "df = pd.read_csv(tar_files[0]).astype(np.int8)\n",
    "df = df.transpose()"
   ]
  },
  {
   "cell_type": "code",
   "execution_count": 11,
   "metadata": {},
   "outputs": [
    {
     "data": {
      "text/html": [
       "<div>\n",
       "<style scoped>\n",
       "    .dataframe tbody tr th:only-of-type {\n",
       "        vertical-align: middle;\n",
       "    }\n",
       "\n",
       "    .dataframe tbody tr th {\n",
       "        vertical-align: top;\n",
       "    }\n",
       "\n",
       "    .dataframe thead th {\n",
       "        text-align: right;\n",
       "    }\n",
       "</style>\n",
       "<table border=\"1\" class=\"dataframe\">\n",
       "  <thead>\n",
       "    <tr style=\"text-align: right;\">\n",
       "      <th></th>\n",
       "      <th>0610007P14Rik</th>\n",
       "      <th>0610009B22Rik</th>\n",
       "      <th>0610009E02Rik</th>\n",
       "      <th>0610009L18Rik</th>\n",
       "      <th>0610009O20Rik</th>\n",
       "      <th>0610010F05Rik</th>\n",
       "      <th>0610010K14Rik</th>\n",
       "      <th>0610012G03Rik</th>\n",
       "      <th>0610025J13Rik</th>\n",
       "      <th>0610030E20Rik</th>\n",
       "      <th>...</th>\n",
       "      <th>n-R5s202</th>\n",
       "      <th>n-R5s210</th>\n",
       "      <th>n-R5s211</th>\n",
       "      <th>n-R5s213</th>\n",
       "      <th>n-R5s25</th>\n",
       "      <th>n-R5s33</th>\n",
       "      <th>n-R5s47</th>\n",
       "      <th>n-R5s7</th>\n",
       "      <th>n-R5s88</th>\n",
       "      <th>n-R5s96</th>\n",
       "    </tr>\n",
       "  </thead>\n",
       "  <tbody>\n",
       "    <tr>\n",
       "      <th>TAAAGTCGTGAT</th>\n",
       "      <td>0</td>\n",
       "      <td>0</td>\n",
       "      <td>0</td>\n",
       "      <td>0</td>\n",
       "      <td>0</td>\n",
       "      <td>0</td>\n",
       "      <td>0</td>\n",
       "      <td>0</td>\n",
       "      <td>0</td>\n",
       "      <td>0</td>\n",
       "      <td>...</td>\n",
       "      <td>0</td>\n",
       "      <td>0</td>\n",
       "      <td>0</td>\n",
       "      <td>0</td>\n",
       "      <td>0</td>\n",
       "      <td>0</td>\n",
       "      <td>0</td>\n",
       "      <td>0</td>\n",
       "      <td>0</td>\n",
       "      <td>0</td>\n",
       "    </tr>\n",
       "    <tr>\n",
       "      <th>CATAACTGATGT</th>\n",
       "      <td>0</td>\n",
       "      <td>0</td>\n",
       "      <td>0</td>\n",
       "      <td>0</td>\n",
       "      <td>0</td>\n",
       "      <td>0</td>\n",
       "      <td>0</td>\n",
       "      <td>0</td>\n",
       "      <td>0</td>\n",
       "      <td>0</td>\n",
       "      <td>...</td>\n",
       "      <td>0</td>\n",
       "      <td>0</td>\n",
       "      <td>0</td>\n",
       "      <td>0</td>\n",
       "      <td>0</td>\n",
       "      <td>0</td>\n",
       "      <td>0</td>\n",
       "      <td>0</td>\n",
       "      <td>0</td>\n",
       "      <td>0</td>\n",
       "    </tr>\n",
       "    <tr>\n",
       "      <th>AAAAGTGTGTCC</th>\n",
       "      <td>0</td>\n",
       "      <td>0</td>\n",
       "      <td>0</td>\n",
       "      <td>0</td>\n",
       "      <td>0</td>\n",
       "      <td>0</td>\n",
       "      <td>0</td>\n",
       "      <td>0</td>\n",
       "      <td>0</td>\n",
       "      <td>0</td>\n",
       "      <td>...</td>\n",
       "      <td>0</td>\n",
       "      <td>0</td>\n",
       "      <td>0</td>\n",
       "      <td>0</td>\n",
       "      <td>0</td>\n",
       "      <td>0</td>\n",
       "      <td>0</td>\n",
       "      <td>0</td>\n",
       "      <td>0</td>\n",
       "      <td>0</td>\n",
       "    </tr>\n",
       "    <tr>\n",
       "      <th>GAGTCGCCGTTC</th>\n",
       "      <td>0</td>\n",
       "      <td>0</td>\n",
       "      <td>0</td>\n",
       "      <td>0</td>\n",
       "      <td>0</td>\n",
       "      <td>0</td>\n",
       "      <td>0</td>\n",
       "      <td>0</td>\n",
       "      <td>0</td>\n",
       "      <td>0</td>\n",
       "      <td>...</td>\n",
       "      <td>0</td>\n",
       "      <td>0</td>\n",
       "      <td>0</td>\n",
       "      <td>0</td>\n",
       "      <td>0</td>\n",
       "      <td>0</td>\n",
       "      <td>0</td>\n",
       "      <td>0</td>\n",
       "      <td>0</td>\n",
       "      <td>0</td>\n",
       "    </tr>\n",
       "    <tr>\n",
       "      <th>CCAGAAAGGATA</th>\n",
       "      <td>0</td>\n",
       "      <td>0</td>\n",
       "      <td>0</td>\n",
       "      <td>0</td>\n",
       "      <td>0</td>\n",
       "      <td>0</td>\n",
       "      <td>0</td>\n",
       "      <td>0</td>\n",
       "      <td>0</td>\n",
       "      <td>0</td>\n",
       "      <td>...</td>\n",
       "      <td>0</td>\n",
       "      <td>0</td>\n",
       "      <td>0</td>\n",
       "      <td>0</td>\n",
       "      <td>0</td>\n",
       "      <td>0</td>\n",
       "      <td>0</td>\n",
       "      <td>0</td>\n",
       "      <td>0</td>\n",
       "      <td>0</td>\n",
       "    </tr>\n",
       "  </tbody>\n",
       "</table>\n",
       "<p>5 rows × 26469 columns</p>\n",
       "</div>"
      ],
      "text/plain": [
       "              0610007P14Rik  0610009B22Rik  0610009E02Rik  0610009L18Rik  \\\n",
       "TAAAGTCGTGAT              0              0              0              0   \n",
       "CATAACTGATGT              0              0              0              0   \n",
       "AAAAGTGTGTCC              0              0              0              0   \n",
       "GAGTCGCCGTTC              0              0              0              0   \n",
       "CCAGAAAGGATA              0              0              0              0   \n",
       "\n",
       "              0610009O20Rik  0610010F05Rik  0610010K14Rik  0610012G03Rik  \\\n",
       "TAAAGTCGTGAT              0              0              0              0   \n",
       "CATAACTGATGT              0              0              0              0   \n",
       "AAAAGTGTGTCC              0              0              0              0   \n",
       "GAGTCGCCGTTC              0              0              0              0   \n",
       "CCAGAAAGGATA              0              0              0              0   \n",
       "\n",
       "              0610025J13Rik  0610030E20Rik  ...  n-R5s202  n-R5s210  n-R5s211  \\\n",
       "TAAAGTCGTGAT              0              0  ...         0         0         0   \n",
       "CATAACTGATGT              0              0  ...         0         0         0   \n",
       "AAAAGTGTGTCC              0              0  ...         0         0         0   \n",
       "GAGTCGCCGTTC              0              0  ...         0         0         0   \n",
       "CCAGAAAGGATA              0              0  ...         0         0         0   \n",
       "\n",
       "              n-R5s213  n-R5s25  n-R5s33  n-R5s47  n-R5s7  n-R5s88  n-R5s96  \n",
       "TAAAGTCGTGAT         0        0        0        0       0        0        0  \n",
       "CATAACTGATGT         0        0        0        0       0        0        0  \n",
       "AAAAGTGTGTCC         0        0        0        0       0        0        0  \n",
       "GAGTCGCCGTTC         0        0        0        0       0        0        0  \n",
       "CCAGAAAGGATA         0        0        0        0       0        0        0  \n",
       "\n",
       "[5 rows x 26469 columns]"
      ]
     },
     "execution_count": 11,
     "metadata": {},
     "output_type": "execute_result"
    }
   ],
   "source": [
    "df.head()"
   ]
  },
  {
   "cell_type": "code",
   "execution_count": 16,
   "metadata": {},
   "outputs": [
    {
     "data": {
      "text/plain": [
       "(6563, 26469)"
      ]
     },
     "execution_count": 16,
     "metadata": {},
     "output_type": "execute_result"
    }
   ],
   "source": [
    "df.shape"
   ]
  },
  {
   "cell_type": "code",
   "execution_count": 15,
   "metadata": {},
   "outputs": [
    {
     "data": {
      "text/plain": [
       "(0.0, 500.0)"
      ]
     },
     "execution_count": 15,
     "metadata": {},
     "output_type": "execute_result"
    },
    {
     "data": {
      "image/png": "[encoded data removed]",
      "text/plain": [
       "<Figure size 432x288 with 1 Axes>"
      ]
     },
     "metadata": {
      "needs_background": "light"
     },
     "output_type": "display_data"
    }
   ],
   "source": [
    "df.sum(1).hist(bins=100)\n",
    "plt.xlim([0, 500])"
   ]
  },
  {
   "cell_type": "code",
   "execution_count": null,
   "metadata": {},
   "outputs": [],
   "source": []
  },
  {
   "cell_type": "code",
   "execution_count": 18,
   "metadata": {},
   "outputs": [
    {
     "data": {
      "text/html": [
       "<div>\n",
       "<style scoped>\n",
       "    .dataframe tbody tr th:only-of-type {\n",
       "        vertical-align: middle;\n",
       "    }\n",
       "\n",
       "    .dataframe tbody tr th {\n",
       "        vertical-align: top;\n",
       "    }\n",
       "\n",
       "    .dataframe thead th {\n",
       "        text-align: right;\n",
       "    }\n",
       "</style>\n",
       "<table border=\"1\" class=\"dataframe\">\n",
       "  <thead>\n",
       "    <tr style=\"text-align: right;\">\n",
       "      <th></th>\n",
       "      <th>0</th>\n",
       "      <th>1</th>\n",
       "      <th>2</th>\n",
       "      <th>3</th>\n",
       "      <th>4</th>\n",
       "      <th>5</th>\n",
       "      <th>6</th>\n",
       "      <th>7</th>\n",
       "      <th>8</th>\n",
       "      <th>9</th>\n",
       "      <th>10</th>\n",
       "      <th>11</th>\n",
       "      <th>12</th>\n",
       "    </tr>\n",
       "  </thead>\n",
       "  <tbody>\n",
       "    <tr>\n",
       "      <th>0</th>\n",
       "      <td>ENSMUSG00000024442</td>\n",
       "      <td>66839.0</td>\n",
       "      <td>0610009O20Rik</td>\n",
       "      <td>RIKEN cDNA 0610009O20 gene</td>\n",
       "      <td>18</td>\n",
       "      <td>True</td>\n",
       "      <td>Known mitochondrial</td>\n",
       "      <td>True</td>\n",
       "      <td>NaN</td>\n",
       "      <td>1.0</td>\n",
       "      <td>0.970</td>\n",
       "      <td>0.8369</td>\n",
       "      <td>0.906</td>\n",
       "    </tr>\n",
       "    <tr>\n",
       "      <th>1</th>\n",
       "      <td>ENSMUSG00000027637</td>\n",
       "      <td>67388.0</td>\n",
       "      <td>1110008F13Rik</td>\n",
       "      <td>RIKEN cDNA 1110008F13 gene</td>\n",
       "      <td>2</td>\n",
       "      <td>True</td>\n",
       "      <td>Dubious gene</td>\n",
       "      <td>True</td>\n",
       "      <td>NaN</td>\n",
       "      <td>0.0</td>\n",
       "      <td>0.014</td>\n",
       "      <td>0.0519</td>\n",
       "      <td>0.099</td>\n",
       "    </tr>\n",
       "    <tr>\n",
       "      <th>2</th>\n",
       "      <td>ENSMUSG00000021023</td>\n",
       "      <td>66132.0</td>\n",
       "      <td>1110008L16Rik</td>\n",
       "      <td>RIKEN cDNA 1110008L16 gene</td>\n",
       "      <td>12</td>\n",
       "      <td>True</td>\n",
       "      <td>Known mitochondrial</td>\n",
       "      <td>True</td>\n",
       "      <td>NaN</td>\n",
       "      <td>0.0</td>\n",
       "      <td>0.215</td>\n",
       "      <td>0.7446</td>\n",
       "      <td>0.385</td>\n",
       "    </tr>\n",
       "    <tr>\n",
       "      <th>3</th>\n",
       "      <td>ENSMUSG00000019797</td>\n",
       "      <td>67851.0</td>\n",
       "      <td>1700021F05Rik</td>\n",
       "      <td>RIKEN cDNA 1700021F05 gene</td>\n",
       "      <td>10</td>\n",
       "      <td>True</td>\n",
       "      <td>Predicted mitochondrial</td>\n",
       "      <td>True</td>\n",
       "      <td>NaN</td>\n",
       "      <td>1.0</td>\n",
       "      <td>0.192</td>\n",
       "      <td>0.8992</td>\n",
       "      <td>0.601</td>\n",
       "    </tr>\n",
       "    <tr>\n",
       "      <th>4</th>\n",
       "      <td>ENSMUSG00000038323</td>\n",
       "      <td>73467.0</td>\n",
       "      <td>1700066M21Rik</td>\n",
       "      <td>UPF0565</td>\n",
       "      <td>1</td>\n",
       "      <td>True</td>\n",
       "      <td>Known mitochondrial</td>\n",
       "      <td>False</td>\n",
       "      <td>NaN</td>\n",
       "      <td>0.0</td>\n",
       "      <td>0.266</td>\n",
       "      <td>0.8348</td>\n",
       "      <td>0.706</td>\n",
       "    </tr>\n",
       "  </tbody>\n",
       "</table>\n",
       "</div>"
      ],
      "text/plain": [
       "                   0        1              2                           3   4   \\\n",
       "0  ENSMUSG00000024442  66839.0  0610009O20Rik  RIKEN cDNA 0610009O20 gene  18   \n",
       "1  ENSMUSG00000027637  67388.0  1110008F13Rik  RIKEN cDNA 1110008F13 gene   2   \n",
       "2  ENSMUSG00000021023  66132.0  1110008L16Rik  RIKEN cDNA 1110008L16 gene  12   \n",
       "3  ENSMUSG00000019797  67851.0  1700021F05Rik  RIKEN cDNA 1700021F05 gene  10   \n",
       "4  ENSMUSG00000038323  73467.0  1700066M21Rik                   UPF0565     1   \n",
       "\n",
       "     5                        6      7   8    9      10      11     12  \n",
       "0  True      Known mitochondrial   True NaN  1.0  0.970  0.8369  0.906  \n",
       "1  True             Dubious gene   True NaN  0.0  0.014  0.0519  0.099  \n",
       "2  True      Known mitochondrial   True NaN  0.0  0.215  0.7446  0.385  \n",
       "3  True  Predicted mitochondrial   True NaN  1.0  0.192  0.8992  0.601  \n",
       "4  True      Known mitochondrial  False NaN  0.0  0.266  0.8348  0.706  "
      ]
     },
     "execution_count": 18,
     "metadata": {},
     "output_type": "execute_result"
    }
   ],
   "source": [
    "df_mito = pd.read_csv('../data/mito_gene.csv', header=None)\n",
    "df_mito.head()"
   ]
  },
  {
   "cell_type": "code",
   "execution_count": 21,
   "metadata": {},
   "outputs": [
    {
     "data": {
      "text/plain": [
       "Stx17     1\n",
       "Cbr3      1\n",
       "Uqcrc1    1\n",
       "Ndufa2    1\n",
       "Mrpl50    1\n",
       "         ..\n",
       "Gtpbp6    1\n",
       "Slirp     1\n",
       "Hagh      1\n",
       "mt-Co2    1\n",
       "Apex2     1\n",
       "Name: 2, Length: 1157, dtype: int64"
      ]
     },
     "execution_count": 21,
     "metadata": {},
     "output_type": "execute_result"
    }
   ],
   "source": [
    "df_mito.iloc[:, 2].value_counts()"
   ]
  },
  {
   "cell_type": "code",
   "execution_count": 22,
   "metadata": {},
   "outputs": [],
   "source": [
    "mito_gene = df_mito.iloc[:, 2].values"
   ]
  },
  {
   "cell_type": "code",
   "execution_count": 29,
   "metadata": {},
   "outputs": [],
   "source": [
    "mito_gene_overlap = list(set(list(mito_gene)) & set(list(df.columns)))"
   ]
  },
  {
   "cell_type": "code",
   "execution_count": 33,
   "metadata": {},
   "outputs": [
    {
     "data": {
      "text/plain": [
       "1157"
      ]
     },
     "execution_count": 33,
     "metadata": {},
     "output_type": "execute_result"
    }
   ],
   "source": [
    "len(mito_gene)"
   ]
  },
  {
   "cell_type": "code",
   "execution_count": 32,
   "metadata": {},
   "outputs": [
    {
     "data": {
      "text/plain": [
       "1108"
      ]
     },
     "execution_count": 32,
     "metadata": {},
     "output_type": "execute_result"
    }
   ],
   "source": [
    "len(mito_gene_overlap)"
   ]
  },
  {
   "cell_type": "code",
   "execution_count": 43,
   "metadata": {},
   "outputs": [
    {
     "data": {
      "text/plain": [
       "(0.0, 50.0)"
      ]
     },
     "execution_count": 43,
     "metadata": {},
     "output_type": "execute_result"
    },
    {
     "data": {
      "image/png": "[encoded data removed]",
      "text/plain": [
       "<Figure size 432x288 with 1 Axes>"
      ]
     },
     "metadata": {
      "needs_background": "light"
     },
     "output_type": "display_data"
    }
   ],
   "source": [
    "df.loc[:, mito_gene_overlap].sum(1).hist(bins=100)\n",
    "plt.xlim([0, 50])"
   ]
  },
  {
   "cell_type": "code",
   "execution_count": 51,
   "metadata": {},
   "outputs": [
    {
     "data": {
      "text/plain": [
       "35     86\n",
       "43     83\n",
       "36     78\n",
       "49     78\n",
       "38     76\n",
       "       ..\n",
       "669     1\n",
       "661     1\n",
       "645     1\n",
       "629     1\n",
       "913     1\n",
       "Length: 561, dtype: int64"
      ]
     },
     "execution_count": 51,
     "metadata": {},
     "output_type": "execute_result"
    }
   ],
   "source": [
    "df.loc[:, mito_gene_overlap].sum(1).value_counts()"
   ]
  },
  {
   "cell_type": "code",
   "execution_count": 59,
   "metadata": {},
   "outputs": [
    {
     "data": {
      "image/png": "[encoded data removed]",
      "text/plain": [
       "<Figure size 432x288 with 1 Axes>"
      ]
     },
     "metadata": {
      "needs_background": "light"
     },
     "output_type": "display_data"
    }
   ],
   "source": [
    "plt.figure()\n",
    "sns.distplot(df.loc[:, mito_gene_overlap].sum(1), bins=100, kde_kws={\"cumulative\": True}, hist_kws={\"cumulative\": True})\n",
    "plt.xticks(range(0, 2100, 100), rotation=90)\n",
    "plt.show()"
   ]
  },
  {
   "cell_type": "code",
   "execution_count": null,
   "metadata": {},
   "outputs": [],
   "source": []
  },
  {
   "cell_type": "code",
   "execution_count": null,
   "metadata": {},
   "outputs": [],
   "source": []
  },
  {
   "cell_type": "code",
   "execution_count": null,
   "metadata": {},
   "outputs": [],
   "source": []
  },
  {
   "cell_type": "code",
   "execution_count": null,
   "metadata": {},
   "outputs": [],
   "source": []
  },
  {
   "cell_type": "code",
   "execution_count": null,
   "metadata": {},
   "outputs": [],
   "source": []
  },
  {
   "cell_type": "code",
   "execution_count": null,
   "metadata": {},
   "outputs": [],
   "source": []
  },
  {
   "cell_type": "code",
   "execution_count": 9,
   "metadata": {},
   "outputs": [
    {
     "name": "stderr",
     "output_type": "stream",
     "text": [
      "[2.3GB(-0.6GB):24.7sec] load csv, concat \n"
     ]
    }
   ],
   "source": [
    "with trace(\"load csv, concat\"):\n",
    "    df = []\n",
    "    for i, tar in enumerate(tar_files[0:2]):\n",
    "        df_temp = pd.read_csv(tar).astype(np.uint16)\n",
    "        df.append(df_temp)"
   ]
  },
  {
   "cell_type": "code",
   "execution_count": null,
   "metadata": {},
   "outputs": [],
   "source": []
  },
  {
   "cell_type": "code",
   "execution_count": null,
   "metadata": {},
   "outputs": [],
   "source": [
    "pd.concat(df, axis=0)"
   ]
  },
  {
   "cell_type": "code",
   "execution_count": null,
   "metadata": {},
   "outputs": [],
   "source": [
    "df.head()"
   ]
  },
  {
   "cell_type": "code",
   "execution_count": 20,
   "metadata": {},
   "outputs": [
    {
     "data": {
      "text/plain": [
       "0610007P14Rik    344\n",
       "0610009B22Rik    397\n",
       "0610009E02Rik     37\n",
       "0610009L18Rik    169\n",
       "0610009O20Rik    115\n",
       "                ... \n",
       "n-R5s28            2\n",
       "n-R5s40            1\n",
       "n-R5s56            1\n",
       "n-R5s88            1\n",
       "n-R5s96            3\n",
       "Length: 25910, dtype: int64"
      ]
     },
     "execution_count": 20,
     "metadata": {},
     "output_type": "execute_result"
    }
   ],
   "source": [
    "df_temp"
   ]
  },
  {
   "cell_type": "code",
   "execution_count": 23,
   "metadata": {},
   "outputs": [],
   "source": [
    "d = pd.read_csv(tar)"
   ]
  },
  {
   "cell_type": "code",
   "execution_count": 38,
   "metadata": {},
   "outputs": [
    {
     "data": {
      "text/plain": [
       "(25910, 4939)"
      ]
     },
     "execution_count": 38,
     "metadata": {},
     "output_type": "execute_result"
    }
   ],
   "source": [
    "d.shape"
   ]
  },
  {
   "cell_type": "code",
   "execution_count": 35,
   "metadata": {},
   "outputs": [
    {
     "data": {
      "text/plain": [
       "3238"
      ]
     },
     "execution_count": 35,
     "metadata": {},
     "output_type": "execute_result"
    }
   ],
   "source": [
    "d.max(0).max()"
   ]
  },
  {
   "cell_type": "code",
   "execution_count": 36,
   "metadata": {},
   "outputs": [
    {
     "data": {
      "text/plain": [
       "3238"
      ]
     },
     "execution_count": 36,
     "metadata": {},
     "output_type": "execute_result"
    }
   ],
   "source": [
    "d.max(1).max()"
   ]
  },
  {
   "cell_type": "code",
   "execution_count": 31,
   "metadata": {},
   "outputs": [
    {
     "data": {
      "text/plain": [
       "ACATTCATGAGC      43\n",
       "TCGTCCAATCCG      29\n",
       "GGCTAAGGATTT       6\n",
       "TGATAAGATTGA       8\n",
       "CCTTTGACCTTN      20\n",
       "                ... \n",
       "CTTTTCCTATCA     146\n",
       "ATCCTCCAATCA     218\n",
       "TTATGTTGTCCA     128\n",
       "ATCCGGTCATAA     215\n",
       "TAAAGGATCGGC    3238\n",
       "Length: 4939, dtype: int64"
      ]
     },
     "execution_count": 31,
     "metadata": {},
     "output_type": "execute_result"
    }
   ],
   "source": [
    "d.max(0)"
   ]
  },
  {
   "cell_type": "code",
   "execution_count": 37,
   "metadata": {},
   "outputs": [
    {
     "data": {
      "text/plain": [
       "True"
      ]
     },
     "execution_count": 37,
     "metadata": {},
     "output_type": "execute_result"
    }
   ],
   "source": [
    "\"Agt\" in d.index"
   ]
  },
  {
   "cell_type": "code",
   "execution_count": null,
   "metadata": {},
   "outputs": [],
   "source": []
  }
 ],
 "metadata": {
  "kernelspec": {
   "display_name": "Python 3",
   "language": "python",
   "name": "python3"
  },
  "language_info": {
   "codemirror_mode": {
    "name": "ipython",
    "version": 3
   },
   "file_extension": ".py",
   "mimetype": "text/x-python",
   "name": "python",
   "nbconvert_exporter": "python",
   "pygments_lexer": "ipython3",
   "version": "3.8.3"
  }
 },
 "nbformat": 4,
 "nbformat_minor": 4
}
