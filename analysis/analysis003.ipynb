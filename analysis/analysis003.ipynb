{
 "cells": [
  {
   "cell_type": "code",
   "execution_count": 10,
   "metadata": {},
   "outputs": [],
   "source": [
    "import numpy as np\n",
    "import pandas as pd\n",
    "import matplotlib.pyplot as plt\n",
    "import seaborn as sns"
   ]
  },
  {
   "cell_type": "code",
   "execution_count": 2,
   "metadata": {},
   "outputs": [],
   "source": [
    "import os, sys\n",
    "from glob import glob"
   ]
  },
  {
   "cell_type": "code",
   "execution_count": 3,
   "metadata": {},
   "outputs": [],
   "source": [
    "import psutil\n",
    "import os\n",
    "import time\n",
    "import sys\n",
    "import math\n",
    "from contextlib import contextmanager\n",
    "\n",
    "@contextmanager\n",
    "def trace(title):\n",
    "    t0 = time.time()\n",
    "    p = psutil.Process(os.getpid())\n",
    "    m0 = p.memory_info()[0] / 2. ** 30\n",
    "    yield\n",
    "    m1 = p.memory_info()[0] / 2. ** 30\n",
    "    delta = m1 - m0\n",
    "    sign = '+' if delta >= 0 else '-'\n",
    "    delta = math.fabs(delta)\n",
    "    print(f\"[{m1:.1f}GB({sign}{delta:.1f}GB):{time.time() - t0:.1f}sec] {title} \", file=sys.stderr)"
   ]
  },
  {
   "cell_type": "code",
   "execution_count": 4,
   "metadata": {},
   "outputs": [],
   "source": [
    "tar_files = []\n",
    "for p in glob('../data/GSE117295_RAW/*csv'):\n",
    "    if \"CT\" in p:\n",
    "        tar_files.append(p)\n",
    "tar_files.sort()"
   ]
  },
  {
   "cell_type": "code",
   "execution_count": 5,
   "metadata": {},
   "outputs": [
    {
     "data": {
      "text/plain": [
       "['../data/GSE117295_RAW/GSM3290582_CT14.csv',\n",
       " '../data/GSE117295_RAW/GSM3290583_CT18.csv',\n",
       " '../data/GSE117295_RAW/GSM3290584_CT22.csv',\n",
       " '../data/GSE117295_RAW/GSM3290585_CT26.csv',\n",
       " '../data/GSE117295_RAW/GSM3290586_CT30.csv',\n",
       " '../data/GSE117295_RAW/GSM3290587_CT34.csv',\n",
       " '../data/GSE117295_RAW/GSM3290588_CT38.csv',\n",
       " '../data/GSE117295_RAW/GSM3290589_CT42.csv',\n",
       " '../data/GSE117295_RAW/GSM3290590_CT46.csv',\n",
       " '../data/GSE117295_RAW/GSM3290591_CT50.csv',\n",
       " '../data/GSE117295_RAW/GSM3290592_CT54.csv',\n",
       " '../data/GSE117295_RAW/GSM3290593_CT58.csv']"
      ]
     },
     "execution_count": 5,
     "metadata": {},
     "output_type": "execute_result"
    }
   ],
   "source": [
    "tar_files"
   ]
  },
  {
   "cell_type": "code",
   "execution_count": 6,
   "metadata": {},
   "outputs": [
    {
     "data": {
      "text/plain": [
       "['../data/GSE117295_RAW/GSM3290582_CT14.csv',\n",
       " '../data/GSE117295_RAW/GSM3290585_CT26.csv',\n",
       " '../data/GSE117295_RAW/GSM3290588_CT38.csv',\n",
       " '../data/GSE117295_RAW/GSM3290591_CT50.csv']"
      ]
     },
     "execution_count": 6,
     "metadata": {},
     "output_type": "execute_result"
    }
   ],
   "source": [
    "tar_files[0::3]"
   ]
  },
  {
   "cell_type": "code",
   "execution_count": null,
   "metadata": {},
   "outputs": [],
   "source": []
  },
  {
   "cell_type": "code",
   "execution_count": 9,
   "metadata": {},
   "outputs": [
    {
     "name": "stderr",
     "output_type": "stream",
     "text": [
      "[2.3GB(-0.6GB):24.7sec] load csv, concat \n"
     ]
    }
   ],
   "source": [
    "with trace(\"load csv, concat\"):\n",
    "    df = []\n",
    "    for i, tar in enumerate(tar_files[0:2]):\n",
    "        df_temp = pd.read_csv(tar).astype(np.uint16)\n",
    "        df.append(df_temp)"
   ]
  },
  {
   "cell_type": "code",
   "execution_count": null,
   "metadata": {},
   "outputs": [],
   "source": []
  },
  {
   "cell_type": "code",
   "execution_count": null,
   "metadata": {},
   "outputs": [],
   "source": [
    "pd.concat(df, axis=0)"
   ]
  },
  {
   "cell_type": "code",
   "execution_count": null,
   "metadata": {},
   "outputs": [],
   "source": [
    "df.head()"
   ]
  },
  {
   "cell_type": "code",
   "execution_count": 20,
   "metadata": {},
   "outputs": [
    {
     "data": {
      "text/plain": [
       "0610007P14Rik    344\n",
       "0610009B22Rik    397\n",
       "0610009E02Rik     37\n",
       "0610009L18Rik    169\n",
       "0610009O20Rik    115\n",
       "                ... \n",
       "n-R5s28            2\n",
       "n-R5s40            1\n",
       "n-R5s56            1\n",
       "n-R5s88            1\n",
       "n-R5s96            3\n",
       "Length: 25910, dtype: int64"
      ]
     },
     "execution_count": 20,
     "metadata": {},
     "output_type": "execute_result"
    }
   ],
   "source": [
    "df_temp"
   ]
  },
  {
   "cell_type": "code",
   "execution_count": 23,
   "metadata": {},
   "outputs": [],
   "source": [
    "d = pd.read_csv(tar)"
   ]
  },
  {
   "cell_type": "code",
   "execution_count": 38,
   "metadata": {},
   "outputs": [
    {
     "data": {
      "text/plain": [
       "(25910, 4939)"
      ]
     },
     "execution_count": 38,
     "metadata": {},
     "output_type": "execute_result"
    }
   ],
   "source": [
    "d.shape"
   ]
  },
  {
   "cell_type": "code",
   "execution_count": 35,
   "metadata": {},
   "outputs": [
    {
     "data": {
      "text/plain": [
       "3238"
      ]
     },
     "execution_count": 35,
     "metadata": {},
     "output_type": "execute_result"
    }
   ],
   "source": [
    "d.max(0).max()"
   ]
  },
  {
   "cell_type": "code",
   "execution_count": 36,
   "metadata": {},
   "outputs": [
    {
     "data": {
      "text/plain": [
       "3238"
      ]
     },
     "execution_count": 36,
     "metadata": {},
     "output_type": "execute_result"
    }
   ],
   "source": [
    "d.max(1).max()"
   ]
  },
  {
   "cell_type": "code",
   "execution_count": 31,
   "metadata": {},
   "outputs": [
    {
     "data": {
      "text/plain": [
       "ACATTCATGAGC      43\n",
       "TCGTCCAATCCG      29\n",
       "GGCTAAGGATTT       6\n",
       "TGATAAGATTGA       8\n",
       "CCTTTGACCTTN      20\n",
       "                ... \n",
       "CTTTTCCTATCA     146\n",
       "ATCCTCCAATCA     218\n",
       "TTATGTTGTCCA     128\n",
       "ATCCGGTCATAA     215\n",
       "TAAAGGATCGGC    3238\n",
       "Length: 4939, dtype: int64"
      ]
     },
     "execution_count": 31,
     "metadata": {},
     "output_type": "execute_result"
    }
   ],
   "source": [
    "d.max(0)"
   ]
  },
  {
   "cell_type": "code",
   "execution_count": 37,
   "metadata": {},
   "outputs": [
    {
     "data": {
      "text/plain": [
       "True"
      ]
     },
     "execution_count": 37,
     "metadata": {},
     "output_type": "execute_result"
    }
   ],
   "source": [
    "\"Agt\" in d.index"
   ]
  },
  {
   "cell_type": "code",
   "execution_count": null,
   "metadata": {},
   "outputs": [],
   "source": []
  }
 ],
 "metadata": {
  "kernelspec": {
   "display_name": "Python 3",
   "language": "python",
   "name": "python3"
  },
  "language_info": {
   "codemirror_mode": {
    "name": "ipython",
    "version": 3
   },
   "file_extension": ".py",
   "mimetype": "text/x-python",
   "name": "python",
   "nbconvert_exporter": "python",
   "pygments_lexer": "ipython3",
   "version": "3.8.3"
  }
 },
 "nbformat": 4,
 "nbformat_minor": 4
}
