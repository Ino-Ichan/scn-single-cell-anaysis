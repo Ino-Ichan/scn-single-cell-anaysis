{
 "cells": [
  {
   "cell_type": "code",
   "execution_count": 1,
   "metadata": {},
   "outputs": [],
   "source": [
    "import numpy as np\n",
    "import pandas as pd\n",
    "import matplotlib.pyplot as plt\n",
    "import seaborn as sns"
   ]
  },
  {
   "cell_type": "code",
   "execution_count": 2,
   "metadata": {},
   "outputs": [],
   "source": [
    "import os, sys\n",
    "from glob import glob"
   ]
  },
  {
   "cell_type": "code",
   "execution_count": 8,
   "metadata": {},
   "outputs": [],
   "source": [
    "import psutil\n",
    "import os\n",
    "import time\n",
    "import sys\n",
    "import math\n",
    "from contextlib import contextmanager\n",
    "\n",
    "@contextmanager\n",
    "def trace(title):\n",
    "    t0 = time.time()\n",
    "    p = psutil.Process(os.getpid())\n",
    "    m0 = p.memory_info()[0] / 2. ** 30\n",
    "    yield\n",
    "    m1 = p.memory_info()[0] / 2. ** 30\n",
    "    delta = m1 - m0\n",
    "    sign = '+' if delta >= 0 else '-'\n",
    "    delta = math.fabs(delta)\n",
    "    print(f\"[{m1:.1f}GB({sign}{delta:.1f}GB):{time.time() - t0:.1f}sec] {title} \", file=sys.stderr)"
   ]
  },
  {
   "cell_type": "code",
   "execution_count": 6,
   "metadata": {},
   "outputs": [],
   "source": [
    "tar_files = glob('../data/GSE117295_RAW/*csv')"
   ]
  },
  {
   "cell_type": "code",
   "execution_count": 7,
   "metadata": {},
   "outputs": [
    {
     "data": {
      "text/plain": [
       "['../data/GSE117295_RAW/GSM3290582_CT14.csv',\n",
       " '../data/GSE117295_RAW/GSM3290588_CT38.csv',\n",
       " '../data/GSE117295_RAW/GSM3290585_CT26.csv',\n",
       " '../data/GSE117295_RAW/GSM3290591_CT50.csv',\n",
       " '../data/GSE117295_RAW/GSM3290590_CT46.csv',\n",
       " '../data/GSE117295_RAW/GSM3290586_CT30.csv',\n",
       " '../data/GSE117295_RAW/GSM3290584_CT22.csv',\n",
       " '../data/GSE117295_RAW/GSM3290589_CT42.csv',\n",
       " '../data/GSE117295_RAW/GSM3290593_CT58.csv',\n",
       " '../data/GSE117295_RAW/GSM3290583_CT18.csv',\n",
       " '../data/GSE117295_RAW/GSM3290587_CT34.csv',\n",
       " '../data/GSE117295_RAW/GSM3290594_flash.csv',\n",
       " '../data/GSE117295_RAW/GSM3290592_CT54.csv']"
      ]
     },
     "execution_count": 7,
     "metadata": {},
     "output_type": "execute_result"
    }
   ],
   "source": [
    "tar_files"
   ]
  },
  {
   "cell_type": "code",
   "execution_count": 26,
   "metadata": {},
   "outputs": [
    {
     "name": "stderr",
     "output_type": "stream",
     "text": [
      "[3.7GB(+0.0GB):116.0sec] load csv, concat \n"
     ]
    }
   ],
   "source": [
    "with trace(\"load csv, concat\"):\n",
    "    df = []\n",
    "    col = []\n",
    "    for i in range(len(tar_files)):\n",
    "        tar = tar_files[i]\n",
    "        df_temp = pd.read_csv(tar).sum(1)\n",
    "        col.append(tar.split('_')[2].split('.')[0])\n",
    "        df.append(df_temp)\n",
    "    \n",
    "    df = pd.concat(df, axis=1).fillna(0)\n",
    "    df.columns = col\n",
    "    df.to_csv('../data/GSE117295_RAW/df_concat.csv')"
   ]
  },
  {
   "cell_type": "code",
   "execution_count": 27,
   "metadata": {},
   "outputs": [
    {
     "data": {
      "text/html": [
       "<div>\n",
       "<style scoped>\n",
       "    .dataframe tbody tr th:only-of-type {\n",
       "        vertical-align: middle;\n",
       "    }\n",
       "\n",
       "    .dataframe tbody tr th {\n",
       "        vertical-align: top;\n",
       "    }\n",
       "\n",
       "    .dataframe thead th {\n",
       "        text-align: right;\n",
       "    }\n",
       "</style>\n",
       "<table border=\"1\" class=\"dataframe\">\n",
       "  <thead>\n",
       "    <tr style=\"text-align: right;\">\n",
       "      <th></th>\n",
       "      <th>CT14</th>\n",
       "      <th>CT38</th>\n",
       "      <th>CT26</th>\n",
       "      <th>CT50</th>\n",
       "      <th>CT46</th>\n",
       "      <th>CT30</th>\n",
       "      <th>CT22</th>\n",
       "      <th>CT42</th>\n",
       "      <th>CT58</th>\n",
       "      <th>CT18</th>\n",
       "      <th>CT34</th>\n",
       "      <th>flash</th>\n",
       "      <th>CT54</th>\n",
       "    </tr>\n",
       "  </thead>\n",
       "  <tbody>\n",
       "    <tr>\n",
       "      <th>0610007P14Rik</th>\n",
       "      <td>493.0</td>\n",
       "      <td>256.0</td>\n",
       "      <td>398.0</td>\n",
       "      <td>231.0</td>\n",
       "      <td>435.0</td>\n",
       "      <td>488.0</td>\n",
       "      <td>390.0</td>\n",
       "      <td>406.0</td>\n",
       "      <td>358.0</td>\n",
       "      <td>382.0</td>\n",
       "      <td>394.0</td>\n",
       "      <td>341.571594</td>\n",
       "      <td>344.0</td>\n",
       "    </tr>\n",
       "    <tr>\n",
       "      <th>0610009B22Rik</th>\n",
       "      <td>552.0</td>\n",
       "      <td>341.0</td>\n",
       "      <td>391.0</td>\n",
       "      <td>210.0</td>\n",
       "      <td>552.0</td>\n",
       "      <td>420.0</td>\n",
       "      <td>543.0</td>\n",
       "      <td>464.0</td>\n",
       "      <td>430.0</td>\n",
       "      <td>517.0</td>\n",
       "      <td>418.0</td>\n",
       "      <td>431.527471</td>\n",
       "      <td>397.0</td>\n",
       "    </tr>\n",
       "    <tr>\n",
       "      <th>0610009E02Rik</th>\n",
       "      <td>54.0</td>\n",
       "      <td>42.0</td>\n",
       "      <td>34.0</td>\n",
       "      <td>29.0</td>\n",
       "      <td>70.0</td>\n",
       "      <td>40.0</td>\n",
       "      <td>47.0</td>\n",
       "      <td>41.0</td>\n",
       "      <td>40.0</td>\n",
       "      <td>24.0</td>\n",
       "      <td>74.0</td>\n",
       "      <td>53.452043</td>\n",
       "      <td>37.0</td>\n",
       "    </tr>\n",
       "    <tr>\n",
       "      <th>0610009L18Rik</th>\n",
       "      <td>207.0</td>\n",
       "      <td>84.0</td>\n",
       "      <td>197.0</td>\n",
       "      <td>103.0</td>\n",
       "      <td>205.0</td>\n",
       "      <td>200.0</td>\n",
       "      <td>181.0</td>\n",
       "      <td>138.0</td>\n",
       "      <td>175.0</td>\n",
       "      <td>157.0</td>\n",
       "      <td>201.0</td>\n",
       "      <td>121.244879</td>\n",
       "      <td>169.0</td>\n",
       "    </tr>\n",
       "    <tr>\n",
       "      <th>0610009O20Rik</th>\n",
       "      <td>238.0</td>\n",
       "      <td>82.0</td>\n",
       "      <td>201.0</td>\n",
       "      <td>74.0</td>\n",
       "      <td>88.0</td>\n",
       "      <td>149.0</td>\n",
       "      <td>136.0</td>\n",
       "      <td>101.0</td>\n",
       "      <td>125.0</td>\n",
       "      <td>139.0</td>\n",
       "      <td>175.0</td>\n",
       "      <td>135.585671</td>\n",
       "      <td>115.0</td>\n",
       "    </tr>\n",
       "  </tbody>\n",
       "</table>\n",
       "</div>"
      ],
      "text/plain": [
       "                CT14   CT38   CT26   CT50   CT46   CT30   CT22   CT42   CT58  \\\n",
       "0610007P14Rik  493.0  256.0  398.0  231.0  435.0  488.0  390.0  406.0  358.0   \n",
       "0610009B22Rik  552.0  341.0  391.0  210.0  552.0  420.0  543.0  464.0  430.0   \n",
       "0610009E02Rik   54.0   42.0   34.0   29.0   70.0   40.0   47.0   41.0   40.0   \n",
       "0610009L18Rik  207.0   84.0  197.0  103.0  205.0  200.0  181.0  138.0  175.0   \n",
       "0610009O20Rik  238.0   82.0  201.0   74.0   88.0  149.0  136.0  101.0  125.0   \n",
       "\n",
       "                CT18   CT34       flash   CT54  \n",
       "0610007P14Rik  382.0  394.0  341.571594  344.0  \n",
       "0610009B22Rik  517.0  418.0  431.527471  397.0  \n",
       "0610009E02Rik   24.0   74.0   53.452043   37.0  \n",
       "0610009L18Rik  157.0  201.0  121.244879  169.0  \n",
       "0610009O20Rik  139.0  175.0  135.585671  115.0  "
      ]
     },
     "execution_count": 27,
     "metadata": {},
     "output_type": "execute_result"
    }
   ],
   "source": [
    "df.head()"
   ]
  },
  {
   "cell_type": "code",
   "execution_count": 20,
   "metadata": {},
   "outputs": [
    {
     "data": {
      "text/plain": [
       "0610007P14Rik    344\n",
       "0610009B22Rik    397\n",
       "0610009E02Rik     37\n",
       "0610009L18Rik    169\n",
       "0610009O20Rik    115\n",
       "                ... \n",
       "n-R5s28            2\n",
       "n-R5s40            1\n",
       "n-R5s56            1\n",
       "n-R5s88            1\n",
       "n-R5s96            3\n",
       "Length: 25910, dtype: int64"
      ]
     },
     "execution_count": 20,
     "metadata": {},
     "output_type": "execute_result"
    }
   ],
   "source": [
    "df_temp"
   ]
  },
  {
   "cell_type": "code",
   "execution_count": 23,
   "metadata": {},
   "outputs": [],
   "source": [
    "d = pd.read_csv(tar)"
   ]
  },
  {
   "cell_type": "code",
   "execution_count": 38,
   "metadata": {},
   "outputs": [
    {
     "data": {
      "text/plain": [
       "(25910, 4939)"
      ]
     },
     "execution_count": 38,
     "metadata": {},
     "output_type": "execute_result"
    }
   ],
   "source": [
    "d.shape"
   ]
  },
  {
   "cell_type": "code",
   "execution_count": 35,
   "metadata": {},
   "outputs": [
    {
     "data": {
      "text/plain": [
       "3238"
      ]
     },
     "execution_count": 35,
     "metadata": {},
     "output_type": "execute_result"
    }
   ],
   "source": [
    "d.max(0).max()"
   ]
  },
  {
   "cell_type": "code",
   "execution_count": 36,
   "metadata": {},
   "outputs": [
    {
     "data": {
      "text/plain": [
       "3238"
      ]
     },
     "execution_count": 36,
     "metadata": {},
     "output_type": "execute_result"
    }
   ],
   "source": [
    "d.max(1).max()"
   ]
  },
  {
   "cell_type": "code",
   "execution_count": 31,
   "metadata": {},
   "outputs": [
    {
     "data": {
      "text/plain": [
       "ACATTCATGAGC      43\n",
       "TCGTCCAATCCG      29\n",
       "GGCTAAGGATTT       6\n",
       "TGATAAGATTGA       8\n",
       "CCTTTGACCTTN      20\n",
       "                ... \n",
       "CTTTTCCTATCA     146\n",
       "ATCCTCCAATCA     218\n",
       "TTATGTTGTCCA     128\n",
       "ATCCGGTCATAA     215\n",
       "TAAAGGATCGGC    3238\n",
       "Length: 4939, dtype: int64"
      ]
     },
     "execution_count": 31,
     "metadata": {},
     "output_type": "execute_result"
    }
   ],
   "source": [
    "d.max(0)"
   ]
  },
  {
   "cell_type": "code",
   "execution_count": 37,
   "metadata": {},
   "outputs": [
    {
     "data": {
      "text/plain": [
       "True"
      ]
     },
     "execution_count": 37,
     "metadata": {},
     "output_type": "execute_result"
    }
   ],
   "source": [
    "\"Agt\" in d.index"
   ]
  },
  {
   "cell_type": "code",
   "execution_count": null,
   "metadata": {},
   "outputs": [],
   "source": []
  }
 ],
 "metadata": {
  "kernelspec": {
   "display_name": "Python 3",
   "language": "python",
   "name": "python3"
  },
  "language_info": {
   "codemirror_mode": {
    "name": "ipython",
    "version": 3
   },
   "file_extension": ".py",
   "mimetype": "text/x-python",
   "name": "python",
   "nbconvert_exporter": "python",
   "pygments_lexer": "ipython3",
   "version": "3.8.3"
  }
 },
 "nbformat": 4,
 "nbformat_minor": 4
}
